{
 "cells": [
  {
   "cell_type": "code",
   "execution_count": 35,
   "id": "7ef5b7a6",
   "metadata": {},
   "outputs": [
    {
     "name": "stdout",
     "output_type": "stream",
     "text": [
      " \n",
      "fibonacci series between 0 and 50 in list format:  [1, 1, 2, 3, 5, 8, 13, 21, 34]\n",
      "fibonacci series between 0 and 50 in normal format:  1 1 2 3 5 8 13 21 34 "
     ]
    }
   ],
   "source": [
    "n=11\n",
    "list=[0,1]\n",
    "sum = 0\n",
    "    \n",
    "for i in range(2,n):\n",
    "        \n",
    "    sum=list[i-2]+list[i-1]\n",
    "        \n",
    "    if sum < 50:\n",
    "        list.append(sum)\n",
    "            \n",
    "    else:\n",
    "        print(\" \")\n",
    "list.pop(0)\n",
    "fibonacci_series=list   \n",
    "print(\"fibonacci series between 0 and 50 in list format: \",fibonacci_series)\n",
    "print(\"fibonacci series between 0 and 50 in normal format: \", end= \" \")\n",
    "for x in fibonacci_series:\n",
    "     print(x,end=\" \")\n",
    "    \n",
    "\n"
   ]
  }
 ],
 "metadata": {
  "kernelspec": {
   "display_name": "Python 3 (ipykernel)",
   "language": "python",
   "name": "python3"
  },
  "language_info": {
   "codemirror_mode": {
    "name": "ipython",
    "version": 3
   },
   "file_extension": ".py",
   "mimetype": "text/x-python",
   "name": "python",
   "nbconvert_exporter": "python",
   "pygments_lexer": "ipython3",
   "version": "3.9.7"
  }
 },
 "nbformat": 4,
 "nbformat_minor": 5
}
